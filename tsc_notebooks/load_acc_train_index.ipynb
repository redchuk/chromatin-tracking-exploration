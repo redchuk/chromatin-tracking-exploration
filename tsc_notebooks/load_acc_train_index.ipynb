{
 "cells": [
  {
   "cell_type": "code",
   "execution_count": 1,
   "metadata": {},
   "outputs": [
    {
     "name": "stderr",
     "output_type": "stream",
     "text": [
      "/proj/group/lmu/software/Miniconda3/py38_4.12.0/envs/tsc/lib/python3.8/site-packages/tqdm/auto.py:22: TqdmWarning: IProgress not found. Please update jupyter and ipywidgets. See https://ipywidgets.readthedocs.io/en/stable/user_install.html\n",
      "  from .autonotebook import tqdm as notebook_tqdm\n"
     ]
    }
   ],
   "source": [
    "from datetime import datetime\n",
    "import numpy as np\n",
    "import os\n",
    "os.environ['MPLCONFIGDIR'] = \"/wrk-vakka/users/hajaalin/tmp_mplconfigdir\"\n",
    "from matplotlib import pyplot as plt\n",
    "%matplotlib inline\n",
    "import pandas as pd\n",
    "from pathlib import Path\n",
    "import shap\n",
    "import sys\n",
    "\n"
   ]
  },
  {
   "cell_type": "code",
   "execution_count": 2,
   "metadata": {},
   "outputs": [],
   "source": [
    "#shap_root = Path('/proj/group/lmu/projects/n_track_ML/output/shap/save_X_test_f_dxy_mindist_angle_area_20221103/202211030938/')\n",
    "shap_root = Path('/wrk/group/lmu/projects/n_track_ML/output/shap/save_X_test2_f_dxy_mindist_angle_area_20221103/202211031451/')\n",
    "glob3 = shap_root.glob('*/train_index_list.npy')\n",
    "glob4 = shap_root.glob('*/accuracy_list.npy')\n",
    "  \n",
    "load_train_index_list = []\n",
    "for g in glob3:\n",
    "    #print(str(g))\n",
    "    load_train_index_list.extend(np.load(g, allow_pickle=True))\n",
    "\n",
    "load_accuracy_list = []\n",
    "for g in glob4:\n",
    "    #print(str(g))\n",
    "    load_accuracy_list.extend(np.load(g, allow_pickle=True))\n",
    "\n"
   ]
  },
  {
   "cell_type": "code",
   "execution_count": 3,
   "metadata": {},
   "outputs": [
    {
     "name": "stdout",
     "output_type": "stream",
     "text": [
      "10000\n",
      "(216,)\n",
      "10000\n",
      "()\n"
     ]
    }
   ],
   "source": [
    "print(len(load_train_index_list))\n",
    "print(load_train_index_list[0].shape)\n",
    "print(len(load_accuracy_list))\n",
    "print(load_accuracy_list[0].shape)\n"
   ]
  },
  {
   "cell_type": "markdown",
   "metadata": {},
   "source": [
    "## Histogram of accuracy"
   ]
  },
  {
   "cell_type": "code",
   "execution_count": 4,
   "metadata": {},
   "outputs": [
    {
     "data": {
      "text/plain": [
       "(array([   2.,    2.,    5.,    3.,   12.,   17.,   29.,   44.,   57.,\n",
       "          45.,   99.,  145.,  171.,  175.,  171.,  231.,  224.,  173.,\n",
       "         224.,  159.,  155.,  115.,   93.,   51.,   52.,   28.,   20.,\n",
       "          21.,   19.,   10.,   26.,   40.,   30.,   35.,   70.,   95.,\n",
       "         107.,  159.,  195.,  226.,  314.,  302.,  396.,  427.,  592.,\n",
       "         657.,  717.,  849., 1029., 1182.]),\n",
       " array([0.375 , 0.3875, 0.4   , 0.4125, 0.425 , 0.4375, 0.45  , 0.4625,\n",
       "        0.475 , 0.4875, 0.5   , 0.5125, 0.525 , 0.5375, 0.55  , 0.5625,\n",
       "        0.575 , 0.5875, 0.6   , 0.6125, 0.625 , 0.6375, 0.65  , 0.6625,\n",
       "        0.675 , 0.6875, 0.7   , 0.7125, 0.725 , 0.7375, 0.75  , 0.7625,\n",
       "        0.775 , 0.7875, 0.8   , 0.8125, 0.825 , 0.8375, 0.85  , 0.8625,\n",
       "        0.875 , 0.8875, 0.9   , 0.9125, 0.925 , 0.9375, 0.95  , 0.9625,\n",
       "        0.975 , 0.9875, 1.    ]),\n",
       " <BarContainer object of 50 artists>)"
      ]
     },
     "execution_count": 4,
     "metadata": {},
     "output_type": "execute_result"
    },
    {
     "data": {
      "image/png": "[encoded data removed]",
      "text/plain": [
       "<Figure size 432x288 with 1 Axes>"
      ]
     },
     "metadata": {
      "needs_background": "light"
     },
     "output_type": "display_data"
    }
   ],
   "source": [
    "accuracy = np.array(load_accuracy_list)\n",
    "plt.hist(accuracy, bins=50)"
   ]
  },
  {
   "cell_type": "markdown",
   "metadata": {},
   "source": [
    "## Limits for hi and lo accuracy models\n",
    "25% seems to be a good pick. The least accurate 25% accounts for the bump centered at 0.57 or so."
   ]
  },
  {
   "cell_type": "code",
   "execution_count": 5,
   "metadata": {},
   "outputs": [
    {
     "name": "stdout",
     "output_type": "stream",
     "text": [
      "0.7123287671232876\n",
      "0.9726027397260274\n"
     ]
    }
   ],
   "source": [
    "acc_lo = np.percentile(accuracy, 25)\n",
    "acc_hi = np.percentile(accuracy, 75)\n",
    "print(acc_lo)\n",
    "print(acc_hi)\n"
   ]
  },
  {
   "cell_type": "code",
   "execution_count": 6,
   "metadata": {},
   "outputs": [
    {
     "data": {
      "text/plain": [
       "array([  2,   3,   4,   5,   6,   7,   8,   9,  10,  11,  14,  17,  18,\n",
       "        19,  20,  21,  22,  23,  24,  25,  26,  27,  28,  31,  32,  35,\n",
       "        36,  37,  38,  39,  40,  43,  44,  47,  48,  49,  50,  51,  52,\n",
       "        53,  54,  55,  58,  59,  61,  62,  65,  66,  67,  68,  69,  70,\n",
       "        71,  72,  73,  74,  75,  78,  79,  80,  81,  86,  87,  88,  91,\n",
       "        92,  93,  94,  95,  96,  97,  98, 103, 104, 105, 106, 107, 108,\n",
       "       109, 110, 113, 114, 115, 116, 117, 118, 119, 120, 121, 122, 123,\n",
       "       124, 127, 128, 131, 132, 133, 134, 135, 136, 137, 138, 139, 140,\n",
       "       141, 142, 145, 146, 147, 148, 149, 150, 153, 154, 155, 156, 157,\n",
       "       158, 161, 162, 163, 164, 165, 166, 167, 168, 173, 174, 175, 176,\n",
       "       177, 180, 181, 182, 183, 184, 185, 186, 187, 190, 191, 192, 193,\n",
       "       196, 197, 198, 199, 202, 203, 204, 205, 206, 209, 210, 211, 212,\n",
       "       213, 214, 217, 218, 219, 220, 223, 224, 225, 226, 227, 228, 229,\n",
       "       230, 233, 234, 235, 236, 237, 238, 239, 240, 241, 242, 245, 246,\n",
       "       247, 248, 249, 250, 253, 254, 255, 256, 257, 258, 259, 260, 261,\n",
       "       262, 263, 264, 267, 268, 269, 270, 271, 272, 275, 276, 277, 278,\n",
       "       279, 280, 281, 282, 285, 286, 287, 288])"
      ]
     },
     "execution_count": 6,
     "metadata": {},
     "output_type": "execute_result"
    }
   ],
   "source": [
    "load_train_index_list[0]"
   ]
  },
  {
   "cell_type": "code",
   "execution_count": 7,
   "metadata": {},
   "outputs": [
    {
     "data": {
      "text/plain": [
       "(223,)"
      ]
     },
     "execution_count": 7,
     "metadata": {},
     "output_type": "execute_result"
    }
   ],
   "source": [
    "load_train_index_list[1].shape"
   ]
  },
  {
   "cell_type": "code",
   "execution_count": 8,
   "metadata": {},
   "outputs": [
    {
     "data": {
      "text/plain": [
       "array([False, False, False, ..., False, False,  True])"
      ]
     },
     "execution_count": 8,
     "metadata": {},
     "output_type": "execute_result"
    }
   ],
   "source": [
    "accuracy > acc_hi\n"
   ]
  },
  {
   "cell_type": "markdown",
   "metadata": {},
   "source": [
    "## Convert training set index in binary format\n",
    "[1,3,4,7,...] -> [1,0,1,1,0,0,1,...]"
   ]
  },
  {
   "cell_type": "code",
   "execution_count": null,
   "metadata": {},
   "outputs": [],
   "source": [
    "def index_to_boolean(integer_index):\n",
    "    idx = np.zeros(289)\n",
    "    for i in integer_index:\n",
    "        idx[i] = 1\n",
    "    return idx\n",
    "\n",
    "index_list = []\n",
    "for index in load_train_index_list:\n",
    "    index_list.append(index_to_boolean(index))\n",
    "\n",
    "index_list = np.array(index_list)\n",
    "index_list.shape"
   ]
  },
  {
   "cell_type": "markdown",
   "metadata": {},
   "source": [
    "## Sum over repetitions to see how many times a sequence appears in the training set\n",
    "### First all repetitions..."
   ]
  },
  {
   "cell_type": "code",
   "execution_count": 30,
   "metadata": {},
   "outputs": [
    {
     "data": {
      "text/plain": [
       "[<matplotlib.lines.Line2D at 0x14cd26966700>]"
      ]
     },
     "execution_count": 30,
     "metadata": {},
     "output_type": "execute_result"
    },
    {
     "data": {
      "image/png": "[encoded data removed]",
      "text/plain": [
       "<Figure size 432x288 with 1 Axes>"
      ]
     },
     "metadata": {
      "needs_background": "light"
     },
     "output_type": "display_data"
    }
   ],
   "source": [
    "index_sums = np.sum(index_list, axis=(0) )\n",
    "plt.plot(index_sums, '*', color='r')\n"
   ]
  },
  {
   "cell_type": "markdown",
   "metadata": {},
   "source": [
    "### ... and then repetitions that ended up with a hi or lo accuracy model"
   ]
  },
  {
   "cell_type": "code",
   "execution_count": 11,
   "metadata": {},
   "outputs": [],
   "source": [
    "index_list_hi = index_list[ accuracy > acc_hi ]\n",
    "index_list_lo = index_list[ accuracy < acc_lo ]\n",
    "index_sums_hi = np.sum(index_list_hi, axis=(0))\n",
    "index_sums_lo = np.sum(index_list_lo, axis=(0))\n"
   ]
  },
  {
   "cell_type": "code",
   "execution_count": 29,
   "metadata": {},
   "outputs": [
    {
     "data": {
      "text/plain": [
       "<matplotlib.lines.Line2D at 0x14cd269ef250>"
      ]
     },
     "execution_count": 29,
     "metadata": {},
     "output_type": "execute_result"
    },
    {
     "data": {
      "image/png": "[encoded data removed]",
      "text/plain": [
       "<Figure size 1440x480 with 1 Axes>"
      ]
     },
     "metadata": {
      "needs_background": "light"
     },
     "output_type": "display_data"
    }
   ],
   "source": [
    "plt.figure(figsize = (18, 6), dpi = 80)\n",
    "plt.plot(index_sums_hi, '*', color='r')\n",
    "plt.plot(index_sums_lo, '*', color='b')\n",
    "plt.axhline(y = 1875, color = 'g', linestyle = '-')\n",
    "#plt.plot(7500/4)"
   ]
  },
  {
   "cell_type": "code",
   "execution_count": 13,
   "metadata": {},
   "outputs": [],
   "source": [
    "diff_sums = index_sums_hi - index_sums_lo"
   ]
  },
  {
   "cell_type": "code",
   "execution_count": 27,
   "metadata": {},
   "outputs": [
    {
     "data": {
      "text/plain": [
       "[<matplotlib.lines.Line2D at 0x14cd26aa5bb0>]"
      ]
     },
     "execution_count": 27,
     "metadata": {},
     "output_type": "execute_result"
    },
    {
     "data": {
      "image/png": "[encoded data removed]",
      "text/plain": [
       "<Figure size 1440x480 with 1 Axes>"
      ]
     },
     "metadata": {
      "needs_background": "light"
     },
     "output_type": "display_data"
    }
   ],
   "source": [
    "plt.figure(figsize = (18, 6), dpi = 80)\n",
    "plt.plot(diff_sums, '*')"
   ]
  },
  {
   "cell_type": "code",
   "execution_count": 15,
   "metadata": {},
   "outputs": [
    {
     "data": {
      "text/plain": [
       "1875.0"
      ]
     },
     "execution_count": 15,
     "metadata": {},
     "output_type": "execute_result"
    }
   ],
   "source": [
    "7500/4"
   ]
  },
  {
   "cell_type": "code",
   "execution_count": 28,
   "metadata": {},
   "outputs": [
    {
     "data": {
      "text/plain": [
       "<matplotlib.lines.Line2D at 0x14cd26a7e7f0>"
      ]
     },
     "execution_count": 28,
     "metadata": {},
     "output_type": "execute_result"
    },
    {
     "data": {
      "image/png": "[encoded data removed]",
      "text/plain": [
       "<Figure size 1440x480 with 1 Axes>"
      ]
     },
     "metadata": {
      "needs_background": "light"
     },
     "output_type": "display_data"
    }
   ],
   "source": [
    "plt.../../notebooks/load_acc_train_index.ipynbfigure(figsize = (18, 6), dpi = 80)\n",
    "plt.plot(index_sums_hi[200:], '*', color='r')\n",
    "plt.plot(index_sums_lo[200:], '*', color='b')\n",
    "plt.axhline(y = 1875, color = 'g', linestyle = '-')\n",
    "#plt.plot(7500/4)"
   ]
  },
  {
   "cell_type": "code",
   "execution_count": 17,
   "metadata": {},
   "outputs": [
    {
     "name": "stdout",
     "output_type": "stream",
     "text": [
      "1240.0\n",
      "900.0\n"
     ]
    },
    {
     "data": {
      "text/plain": [
       "900.0"
      ]
     },
     "execution_count": 17,
     "metadata": {},
     "output_type": "execute_result"
    }
   ],
   "source": [
    "img_sums_hi = index_sums_hi.copy()\n",
    "img_sums_lo = index_sums_lo.copy()\n",
    "print(np.min(img_sums_hi))\n",
    "print(np.min(img_sums_lo))\n",
    "min(np.min(img_sums_hi), np.min(img_sums_lo))"
   ]
  },
  {
   "cell_type": "code",
   "execution_count": 18,
   "metadata": {},
   "outputs": [
    {
     "name": "stdout",
     "output_type": "stream",
     "text": [
      "900.0\n",
      "2419.0\n"
     ]
    }
   ],
   "source": [
    "img_sums_hi = index_sums_hi.copy()\n",
    "img_sums_lo = index_sums_lo.copy()\n",
    "sum_min = min(np.min(img_sums_hi), np.min(img_sums_lo))\n",
    "sum_max = max(np.max(img_sums_hi), np.max(img_sums_lo))\n",
    "print(sum_min)\n",
    "print(sum_max)\n",
    "img_sums_hi = (img_sums_hi - sum_min) / sum_max\n",
    "img_sums_lo = (img_sums_lo - sum_min) / sum_max\n",
    "img_sums_hi.resize(300)\n",
    "img_sums_lo.resize(300)\n",
    "img_sums_hi = img_sums_hi.reshape((15,20))\n",
    "img_sums_lo = img_sums_lo.reshape((15,20))\n",
    "\n",
    "# https://stackoverflow.com/questions/10443295/combine-3-separate-numpy-arrays-to-an-rgb-image-in-python\n",
    "r = img_sums_hi\n",
    "g = np.zeros((15,20))\n",
    "b = img_sums_lo\n",
    "\n",
    "rgb = np.dstack((r,g,b))\n",
    "rgb_uint8 = (np.dstack((r,g,b)) * 255.999) .astype(np.uint8)"
   ]
  },
  {
   "cell_type": "code",
   "execution_count": 19,
   "metadata": {},
   "outputs": [
    {
     "data": {
      "text/plain": [
       "<matplotlib.image.AxesImage at 0x14cd27859760>"
      ]
     },
     "execution_count": 19,
     "metadata": {},
     "output_type": "execute_result"
    },
    {
     "data": {
      "image/png": "[encoded data removed]",
      "text/plain": [
       "<Figure size 432x288 with 1 Axes>"
      ]
     },
     "metadata": {
      "needs_background": "light"
     },
     "output_type": "display_data"
    }
   ],
   "source": [
    "#plt.imshow(rgb_uint8)\n",
    "#plt.rcParams[\"figure.figsize\"] = (15,20)\n",
    "plt.imshow(rgb)\n"
   ]
  },
  {
   "cell_type": "code",
   "execution_count": null,
   "metadata": {},
   "outputs": [],
   "source": []
  }
 ],
 "metadata": {
  "kernelspec": {
   "display_name": "Python (tsc)",
   "language": "python",
   "name": "tsc"
  },
  "language_info": {
   "codemirror_mode": {
    "name": "ipython",
    "version": 3
   },
   "file_extension": ".py",
   "mimetype": "text/x-python",
   "name": "python",
   "nbconvert_exporter": "python",
   "pygments_lexer": "ipython3",
   "version": "3.8.2"
  }
 },
 "nbformat": 4,
 "nbformat_minor": 4
}
